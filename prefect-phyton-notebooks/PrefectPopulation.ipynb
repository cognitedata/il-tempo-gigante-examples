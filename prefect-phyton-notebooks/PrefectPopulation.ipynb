{
 "cells": [
  {
   "cell_type": "markdown",
   "id": "63e6f8ce",
   "metadata": {},
   "source": [
    "## DEPENDENCIES MANAGEMENT"
   ]
  },
  {
   "cell_type": "code",
   "execution_count": null,
   "id": "b3ffec74-2902-437c-8102-ffa69bb4c623",
   "metadata": {
    "pycharm": {
     "name": "#%%\n"
    }
   },
   "outputs": [],
   "source": [
    "!pip install cognite-sdk-core install pandas\n",
    "from cognite.client import CogniteClient\n",
    "import requests\n",
    "import json\n",
    "import pandas as pd"
   ]
  },
  {
   "cell_type": "markdown",
   "id": "95593f67",
   "metadata": {},
   "source": [
    "## PRESET PARAMETERS"
   ]
  },
  {
   "cell_type": "markdown",
   "id": "27e22ae3",
   "metadata": {},
   "source": [
    "### Default parameters"
   ]
  },
  {
   "cell_type": "code",
   "execution_count": null,
   "id": "e53b6aae-e8cd-4bf7-aad8-c43f6772cd84",
   "metadata": {
    "pycharm": {
     "name": "#%%\n"
    }
   },
   "outputs": [],
   "source": [
    "HASURA_BASE_API='https://datapop.greenfield.cognite.ai'\n",
    "HASURA_GRAPHQL_ENDPOINT = f'{HASURA_BASE_API}/v1/graphql'\n",
    "CDF_URL = \"https://api.cognitedata.com\"\n",
    "TOKEN_SCOPES = [\"https://api.cognitedata.com/.default\"]\n",
    "TOKEN_URL = \"https://login.microsoftonline.com/806128be-974c-452a-a25c-f98d78eb24ea/oauth2/v2.0/token\""
   ]
  },
  {
   "cell_type": "markdown",
   "id": "0636960e",
   "metadata": {},
   "source": [
    "### User injected parameters"
   ]
  },
  {
   "cell_type": "markdown",
   "id": "0d86d5bb",
   "metadata": {},
   "source": [
    "#### Generic parameters"
   ]
  },
  {
   "cell_type": "code",
   "execution_count": null,
   "id": "70699ec2",
   "metadata": {},
   "outputs": [],
   "source": [
    "CLIENT_ID = input(\"Type in your client ID...\")\n",
    "CLIENT_SECRET = input(\"Type in your client secret...\")\n",
    "CDF_CLUSTER = input('Type in your CDF Cluster (e.g. api, westeurope-1, etc)...') # \"api\"  # api, westeurope-1 etc\n",
    "COGNITE_PROJECT = input('Type in your Cognite project name...') # \"itg-testing\""
   ]
  },
  {
   "cell_type": "markdown",
   "id": "1b13387f",
   "metadata": {},
   "source": [
    "#### Flow run specific parameters"
   ]
  },
  {
   "cell_type": "code",
   "execution_count": null,
   "id": "681d0ecd",
   "metadata": {},
   "outputs": [],
   "source": [
    "# Prefect flow parameters\n",
    "# Tenants name\n",
    "tenant = input('Type in your tenant name (usually same as Cognite project name)')\n",
    "\n",
    "# ITG project ID\n",
    "projectId = input('Type in your project ID...')\n",
    "\n",
    "# ITG schema type\n",
    "schemaName = input('Type in your target/destination schema name...')\n",
    "\n",
    "# JSONata transformation code\n",
    "jsonata = input('Type in your (JSONata) transformation code...')\n",
    "\n",
    "# CDF raw database name\n",
    "rawDatabase = input('Type in your CDF raw database name...')\n",
    "\n",
    "# CDF raw table name\n",
    "rawTable = input('Type in your CDF raw database table name...')\n",
    "\n",
    "# Raw batch size (default in Prefect is 10000)\n",
    "_rawBatchSize = input('Type in your raw batch size (must be an integer and defaults to a 100 if invalid value provided)...')\n",
    "rawBatchSize = 100\n",
    "try:\n",
    "    rawBatchSize = int(_rawBatchSize.strip())\n",
    "except:\n",
    "    print(f'Invalid raw batch size value provided, defaulting to {rawBatchSize}...')\n",
    "\n",
    "# Raw batch size (default in Prefect is 2500)\n",
    "_itgBatchSize = input('Type in your ITG batch size (must be an integer and defaults to a 10 if invalid value provided)...')\n",
    "itgBatchSize = 10\n",
    "try:\n",
    "    itgBatchSize = int(_itgBatchSize.strip())\n",
    "except:\n",
    "    print(f'Invalid ITG batch size value provided, defaulting to {itgBatchSize}...')"
   ]
  },
  {
   "cell_type": "markdown",
   "id": "7804505b",
   "metadata": {},
   "source": [
    "## AUTHENTICATION"
   ]
  },
  {
   "cell_type": "markdown",
   "id": "85840846",
   "metadata": {},
   "source": [
    "### Get CDF authentication token"
   ]
  },
  {
   "cell_type": "code",
   "execution_count": null,
   "id": "02a25d5e",
   "metadata": {
    "collapsed": false,
    "pycharm": {
     "name": "#%%\n"
    }
   },
   "outputs": [],
   "source": [
    "SCOPES = [f\"https://{CDF_CLUSTER}.cognitedata.com/.default\"]\n",
    "cdf_client = CogniteClient(\n",
    "    token_url=TOKEN_URL,\n",
    "    token_client_id=CLIENT_ID,\n",
    "    token_client_secret=CLIENT_SECRET,\n",
    "    token_scopes=SCOPES,\n",
    "    project=COGNITE_PROJECT,\n",
    "    base_url=f\"https://{CDF_CLUSTER}.cognitedata.com\",\n",
    "    client_name=\"client_secret_test_script\",\n",
    "    debug=True,\n",
    ")\n",
    "cognite_token = cdf_client.config.token()"
   ]
  },
  {
   "cell_type": "markdown",
   "id": "808ba7c0",
   "metadata": {},
   "source": [
    "### Get Hasura token"
   ]
  },
  {
   "cell_type": "code",
   "execution_count": null,
   "id": "7a39f891",
   "metadata": {},
   "outputs": [],
   "source": [
    "hasura_token_response = requests.get(\n",
    "    f'https://datapop-auth.greenfield.cognite.ai/token', headers={\n",
    "        \"Authorization\": f\"Bearer {cognite_token}\",\n",
    "        \"x-project\": 'itg-testing',\n",
    "        \"x-cluster\": 'api'\n",
    "    }\n",
    ").json()\n",
    "hasura_token = hasura_token_response['token']"
   ]
  },
  {
   "cell_type": "markdown",
   "id": "75b955e4",
   "metadata": {},
   "source": [
    "### Configure hasura authentication header"
   ]
  },
  {
   "cell_type": "code",
   "execution_count": null,
   "id": "94c610b9",
   "metadata": {},
   "outputs": [],
   "source": [
    "headers = {\"Authorization\": f\"Bearer {hasura_token}\", \"Content-Type\": \"application/json\", 'X-Hasura-Admin-Secret': 'randompassword'}\n",
    "print(\"Authorization:\", headers[\"Authorization\"][0:30], \"...\")"
   ]
  },
  {
   "cell_type": "markdown",
   "id": "00f5b1ce",
   "metadata": {},
   "source": [
    "## Get Flow ID"
   ]
  },
  {
   "cell_type": "markdown",
   "id": "9dc5c337",
   "metadata": {},
   "source": [
    "### Flow ID retrieval query"
   ]
  },
  {
   "cell_type": "code",
   "execution_count": null,
   "id": "d669bfc6-e5d9-4050-83e2-151a296c6962",
   "metadata": {
    "pycharm": {
     "name": "#%%\n"
    }
   },
   "outputs": [],
   "source": [
    "queryGetFlowId = \"\"\"query GetRawToSchemaFlowId{\n",
    " flow(\n",
    "   where: { name: { _eq: \"raw-to-schema\" }, archived: { _eq: false } }\n",
    "   limit: 1\n",
    " ) {\n",
    "   id\n",
    " }\n",
    "}\"\"\""
   ]
  },
  {
   "cell_type": "markdown",
   "id": "82d7dea6",
   "metadata": {},
   "source": [
    "### Fetch flow ID"
   ]
  },
  {
   "cell_type": "code",
   "execution_count": null,
   "id": "e906d106-f845-4441-97a0-71ba386cf950",
   "metadata": {
    "pycharm": {
     "name": "#%%\n"
    }
   },
   "outputs": [],
   "source": [
    "r = requests.post(HASURA_GRAPHQL_ENDPOINT, json={\"query\": queryGetFlowId}, headers=headers)\n",
    "if r.status_code == 200:\n",
    "    flowId = r.json()['data']['flow'][0]['id']\n",
    "else:\n",
    "    raise Exception(f\"Query failed to run with a {r.status_code}.\")"
   ]
  },
  {
   "cell_type": "markdown",
   "id": "11099a19",
   "metadata": {},
   "source": [
    "## TRANSFORMATIONS"
   ]
  },
  {
   "cell_type": "markdown",
   "id": "95c00114",
   "metadata": {},
   "source": [
    "### Parameters"
   ]
  },
  {
   "cell_type": "code",
   "execution_count": null,
   "id": "99ee5e8d",
   "metadata": {},
   "outputs": [],
   "source": [
    "'''\n",
    "Run multiple transformations on one flow.\n",
    "'''\n",
    "transformations = [\n",
    "    {\n",
    "        \"clientId\": CLIENT_ID,\n",
    "        \"clientSecret\": CLIENT_SECRET,\n",
    "        \"cdfBaseUrl\": CDF_URL,\n",
    "        \"tokenScopes\": TOKEN_SCOPES,\n",
    "        \"tokenUrl\": TOKEN_URL,\n",
    "        \"cdfCluster\": \"api\",\n",
    "        \"cdfProject\": tenant,\n",
    "        \"targetProjectId\": projectId,\n",
    "        \"targetSchemaType\": schemaName,\n",
    "        \"jsonataTransformation\": jsonata,\n",
    "        \"rawDb\": rawDatabase,\n",
    "        \"rawTable\": rawTable,\n",
    "        \"rawBatchSize\": rawBatchSize,\n",
    "        \"itgBatchSize\": itgBatchSize,\n",
    "        \"forceReload\": True\n",
    "    },\n",
    "    {\n",
    "        \"clientId\": CLIENT_ID,\n",
    "        \"clientSecret\": CLIENT_SECRET,\n",
    "        \"cdfBaseUrl\": CDF_URL,\n",
    "        \"tokenScopes\": TOKEN_SCOPES,\n",
    "        \"tokenUrl\": TOKEN_URL,\n",
    "        \"cdfCluster\": \"api\",\n",
    "        \"cdfProject\": tenant,\n",
    "        \"targetProjectId\": projectId,\n",
    "        \"targetSchemaType\": schemaName,\n",
    "        \"jsonataTransformation\": jsonata,\n",
    "        \"rawDb\": rawDatabase,\n",
    "        \"rawTable\": rawTable,\n",
    "        \"rawBatchSize\": rawBatchSize,\n",
    "        \"itgBatchSize\": itgBatchSize,\n",
    "        \"forceReload\": True\n",
    "    }\n",
    "]\n",
    "\n",
    "parameters = {\n",
    "    'transformationConfigs': transformations\n",
    "}"
   ]
  },
  {
   "cell_type": "markdown",
   "id": "12dd19bc",
   "metadata": {},
   "source": [
    "### Parameters variables"
   ]
  },
  {
   "cell_type": "code",
   "execution_count": null,
   "id": "f9c24117",
   "metadata": {},
   "outputs": [],
   "source": [
    "parametersRunFlow = {\n",
    "    \"flow_id\": flowId,\n",
    "    \"parameters\": parameters\n",
    "}"
   ]
  },
  {
   "cell_type": "markdown",
   "id": "ea4399c0",
   "metadata": {},
   "source": [
    "### Run flow query"
   ]
  },
  {
   "cell_type": "code",
   "execution_count": null,
   "id": "7f3d8952-cb1e-442b-b7b8-c5c56480c921",
   "metadata": {
    "pycharm": {
     "name": "#%%\n"
    }
   },
   "outputs": [],
   "source": [
    "mutationRunFlow = \"\"\"mutation RunFlow($flow_id: UUID!, $parameters: JSON) {\n",
    "    create_flow_run(input: {\n",
    "        flow_id: $flow_id,\n",
    "        parameters: $parameters\n",
    "    }) {\n",
    "        id\n",
    "    }\n",
    "}\"\"\"\n"
   ]
  },
  {
   "cell_type": "code",
   "execution_count": null,
   "id": "a885d116",
   "metadata": {
    "pycharm": {
     "name": "#%%\n"
    }
   },
   "outputs": [],
   "source": [
    "r = requests.post(HASURA_GRAPHQL_ENDPOINT, json={\"query\": mutationRunFlow, \"variables\": parametersRunFlow}, headers=headers)\n",
    "if r.status_code == 200:\n",
    "    print(f\"Running flow = {json.dumps(r.json(), indent=2)}\")\n",
    "else:\n",
    "    raise Exception(f\"Query failed to run with a {r.status_code}.\")"
   ]
  },
  {
   "cell_type": "markdown",
   "id": "69bf3d64",
   "metadata": {},
   "source": [
    "## WATCH TRANSFORMATION"
   ]
  },
  {
   "cell_type": "code",
   "execution_count": null,
   "id": "c792e0b6",
   "metadata": {
    "collapsed": false,
    "pycharm": {
     "name": "#%%\n"
    }
   },
   "outputs": [],
   "source": [
    "queryGetLastTasks = \"\"\"query GetLastTasks($flow_id: uuid) {\n",
    "  flow_run(\n",
    "    where: { flow_id: { _eq: $flow_id }}\n",
    "    limit: 5,\n",
    "    order_by: {start_time: desc}\n",
    "  ) {\n",
    "    id\n",
    "    name\n",
    "    created\n",
    "    agent_id\n",
    "    flow_id\n",
    "  }\n",
    "}\"\"\"\n",
    "\n",
    "parametersGetLastTasks = {\n",
    "    \"flow_id\": flowId,\n",
    "}\n"
   ]
  },
  {
   "cell_type": "code",
   "execution_count": null,
   "id": "bf2c4099",
   "metadata": {
    "collapsed": false,
    "pycharm": {
     "name": "#%%\n"
    }
   },
   "outputs": [],
   "source": [
    "r = requests.post(HASURA_GRAPHQL_ENDPOINT, json={\"query\": queryGetLastTasks, \"variables\": parametersGetLastTasks}, headers=headers)\n",
    "if r.status_code == 200:\n",
    "    lastFlowRunId = r.json()['data']['flow_run'][0]['id']\n",
    "    result = r.json()\n",
    "else:\n",
    "    raise Exception(f\"Query failed to run with a {r.status_code}.\")"
   ]
  },
  {
   "cell_type": "code",
   "execution_count": null,
   "id": "72b6d052",
   "metadata": {
    "collapsed": false,
    "pycharm": {
     "name": "#%%\n"
    }
   },
   "outputs": [],
   "source": [
    "pd.set_option('display.max_rows', None)"
   ]
  },
  {
   "cell_type": "code",
   "execution_count": null,
   "id": "7f62c4df",
   "metadata": {
    "collapsed": false,
    "pycharm": {
     "name": "#%%\n"
    }
   },
   "outputs": [],
   "source": [
    "pd.json_normalize(result['data']['flow_run'])"
   ]
  },
  {
   "cell_type": "code",
   "execution_count": null,
   "id": "aa180369",
   "metadata": {
    "pycharm": {
     "name": "#%%\n"
    }
   },
   "outputs": [],
   "source": [
    "import time\n",
    "# Need to sleep a little to take status of the last task run\n",
    "time.sleep(len(transformations) * 30)"
   ]
  },
  {
   "cell_type": "code",
   "execution_count": null,
   "id": "a8b57fa0",
   "metadata": {
    "collapsed": false,
    "pycharm": {
     "name": "#%%\n"
    }
   },
   "outputs": [],
   "source": [
    "getStatusQuery = \"\"\"query GetStatusQuery($flowRunId: uuid){\n",
    "  flow_run(\n",
    "    where: {\n",
    "      id: {\n",
    "        _eq: $flowRunId\n",
    "      }\n",
    "    })\n",
    "    {\n",
    "      end_time\n",
    "      heartbeat\n",
    "      logs {\n",
    "        id\n",
    "        created\n",
    "        message\n",
    "        level\n",
    "      }\n",
    "  }\n",
    "}\"\"\"\n",
    "\n",
    "parametersGetStatusQuery = {\n",
    "    \"flowRunId\": lastFlowRunId,\n",
    "}"
   ]
  },
  {
   "cell_type": "code",
   "execution_count": null,
   "id": "40045439",
   "metadata": {
    "collapsed": false,
    "pycharm": {
     "name": "#%%\n"
    }
   },
   "outputs": [],
   "source": [
    "r = requests.post(HASURA_GRAPHQL_ENDPOINT, json={\"query\": getStatusQuery, \"variables\": parametersGetStatusQuery}, headers=headers)\n",
    "if r.status_code == 200:\n",
    "    r.json()\n",
    "else:\n",
    "    raise Exception(f\"Query failed to run with a {r.status_code}.\")"
   ]
  },
  {
   "cell_type": "code",
   "execution_count": null,
   "id": "dff7c91d",
   "metadata": {
    "collapsed": false,
    "pycharm": {
     "name": "#%%\n"
    }
   },
   "outputs": [],
   "source": [
    "pd.json_normalize(r.json()['data']['flow_run'][0]['logs'])\n"
   ]
  }
 ],
 "metadata": {
  "kernelspec": {
   "display_name": "Python 3 (ipykernel)",
   "language": "python",
   "name": "python3"
  },
  "language_info": {
   "codemirror_mode": {
    "name": "ipython",
    "version": 3
   },
   "file_extension": ".py",
   "mimetype": "text/x-python",
   "name": "python",
   "nbconvert_exporter": "python",
   "pygments_lexer": "ipython3",
   "version": "3.8.9"
  }
 },
 "nbformat": 4,
 "nbformat_minor": 5
}
