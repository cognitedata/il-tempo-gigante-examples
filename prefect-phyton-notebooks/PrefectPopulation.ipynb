{
 "cells": [
  {
   "cell_type": "code",
   "execution_count": 1593,
   "id": "b3ffec74-2902-437c-8102-ffa69bb4c623",
   "metadata": {},
   "outputs": [],
   "source": [
    "import requests\n",
    "import json"
   ]
  },
  {
   "cell_type": "code",
   "execution_count": 1594,
   "id": "e53b6aae-e8cd-4bf7-aad8-c43f6772cd84",
   "metadata": {},
   "outputs": [],
   "source": [
    "prefectEndpoint = \"http://34.77.49.169:4200\"\n",
    "accessToken = \"no-token-yet\"\n",
    "headers = {\"Authorization\": f\"Bearer {accessToken}\"}"
   ]
  },
  {
   "cell_type": "code",
   "execution_count": 1595,
   "id": "5db576cb",
   "metadata": {},
   "outputs": [],
   "source": [
    "# Authentification for Cognite Client\n",
    "CLIENT_ID = \"*****\"\n",
    "CLIENT_SECRET = \"*****\"\n",
    "CDF_URL = \"https://api.cognitedata.com\"\n",
    "TOKEN_SCOPES = [\"https://api.cognitedata.com/.default\"]\n",
    "TOKEN_URL = \"https://login.microsoftonline.com/806128be-974c-452a-a25c-f98d78eb24ea/oauth2/v2.0/token\""
   ]
  },
  {
   "cell_type": "code",
   "execution_count": 1596,
   "id": "ae2a8d38",
   "metadata": {},
   "outputs": [],
   "source": [
    "# Prefect flow parameters\n",
    "# Tenants name\n",
    "tenant = \"itg-testing\"\n",
    "# ITG project ID \n",
    "projectId = \"a14032b91-107e-44db-a627-087f8edd7ca2\"\n",
    "# ITG schema type\n",
    "schemaName = \"AreaPython\"\n",
    "# JSONata transformation code\n",
    "jsonata = \"\"\"\n",
    "    { \n",
    "        \"id\": DMSuniqueID, \n",
    "        \"name\": Discipline\n",
    "    }\n",
    "\"\"\"\n",
    "# CDF raw database name\n",
    "rawDatabase = \"usecase-workshop-s2s\"\n",
    "# CDS raw table name\n",
    "rawTable = \"c_d\"\n",
    "# Raw batch size (default in Prefect is 10000)\n",
    "rawBatchSize = 100\n",
    "# Raw batch size (default in Prefect is 2500)\n",
    "itgBatchSize = 10"
   ]
  },
  {
   "cell_type": "code",
   "execution_count": 1597,
   "id": "d669bfc6-e5d9-4050-83e2-151a296c6962",
   "metadata": {},
   "outputs": [],
   "source": [
    "queryGetFlowId = \"\"\"query GetRawToSchemaFlowId{\n",
    " flow(\n",
    "   where: { name: { _eq: \"raw-to-schema\" }, archived: { _eq: false } }\n",
    "   limit: 1\n",
    " ) {\n",
    "   id\n",
    " }\n",
    "}\"\"\""
   ]
  },
  {
   "cell_type": "code",
   "execution_count": 1598,
   "id": "e906d106-f845-4441-97a0-71ba386cf950",
   "metadata": {},
   "outputs": [],
   "source": [
    "r = requests.post(prefectEndpoint, json={\"query\": queryGetFlowId}, headers=headers)\n",
    "if r.status_code == 200:\n",
    "    flowId = r.json()['data']['flow'][0]['id']\n",
    "else:\n",
    "    raise Exception(f\"Query failed to run with a {r.status_code}.\")"
   ]
  },
  {
   "cell_type": "code",
   "execution_count": 1599,
   "id": "7f3d8952-cb1e-442b-b7b8-c5c56480c921",
   "metadata": {},
   "outputs": [],
   "source": [
    "mutationRunFlow = \"\"\"mutation RunFlow($flow_id: UUID!, $parameters: JSON) {\n",
    "    create_flow_run(input: { \n",
    "        flow_id: $flow_id,\n",
    "        parameters: $parameters\n",
    "    }) {\n",
    "        id\n",
    "    }\n",
    "}\"\"\"\n",
    "\n",
    "parametersRunFlow = {\n",
    "    \"flow_id\": flowId,\n",
    "    \"parameters\": {\n",
    "        \"clientId\": CLIENT_ID,\n",
    "        \"clientSecret\": CLIENT_SECRET,\n",
    "        \"cdfUrl\": CDF_URL,\n",
    "        \"scopes\": TOKEN_SCOPES,\n",
    "        \"tokenUrl\": TOKEN_URL,\n",
    "        \"cdfCluster\": \"api\",\n",
    "        \"cdfProject\": tenant,\n",
    "        \"targetProjectId\": projectId,\n",
    "        \"targetSchemaType\": schemaName,\n",
    "        \"jsonataTransformation\": jsonata,\n",
    "        \"rawDb\": rawDatabase,\n",
    "        \"rawTable\": rawTable,\n",
    "        \"rawBatchSize\": rawBatchSize,\n",
    "        \"itgBatchSize\": itgBatchSize,\n",
    "        \"forceReload\": True\n",
    "    }\n",
    "}"
   ]
  },
  {
   "cell_type": "code",
   "execution_count": null,
   "id": "a885d116",
   "metadata": {},
   "outputs": [],
   "source": [
    "r = requests.post(prefectEndpoint, json={\"query\": mutationRunFlow, \"variables\": parametersRunFlow}, headers=headers)\n",
    "if r.status_code == 200:\n",
    "    print(f\"Running flow = {json.dumps(r.json(), indent=2)}\")\n",
    "else:\n",
    "    raise Exception(f\"Query failed to run with a {r.status_code}.\")"
   ]
  },
  {
   "cell_type": "code",
   "execution_count": 1601,
   "metadata": {
    "collapsed": false,
    "pycharm": {
     "name": "#%%\n"
    }
   },
   "outputs": [],
   "source": [
    "queryGetLastTasks = \"\"\"query GetLastTasks($flow_id: uuid) {\n",
    "  flow_run(\n",
    "    where: { flow_id: { _eq: $flow_id }}\n",
    "    limit: 5, \n",
    "    order_by: {start_time: desc}\n",
    "  ) {\n",
    "    id\n",
    "    name\n",
    "    created\n",
    "    agent_id\n",
    "    flow_id\n",
    "  }\n",
    "}\"\"\"\n",
    "\n",
    "parametersGetLastTasks = {\n",
    "    \"flow_id\": flowId,\n",
    "}\n"
   ]
  },
  {
   "cell_type": "code",
   "execution_count": 1602,
   "metadata": {
    "collapsed": false,
    "pycharm": {
     "name": "#%%\n"
    }
   },
   "outputs": [],
   "source": [
    "r = requests.post(prefectEndpoint, json={\"query\": queryGetLastTasks, \"variables\": parametersGetLastTasks}, headers=headers)\n",
    "if r.status_code == 200:\n",
    "    lastFlowRunId = r.json()['data']['flow_run'][0]['id']\n",
    "    result = r.json()\n",
    "else:\n",
    "    raise Exception(f\"Query failed to run with a {r.status_code}.\")"
   ]
  },
  {
   "cell_type": "code",
   "execution_count": 1604,
   "metadata": {
    "collapsed": false,
    "pycharm": {
     "name": "#%%\n"
    }
   },
   "outputs": [],
   "source": [
    "import pandas as pd\n",
    "pd.set_option('display.max_rows', None)"
   ]
  },
  {
   "cell_type": "code",
   "execution_count": null,
   "metadata": {
    "collapsed": false,
    "pycharm": {
     "name": "#%%\n"
    }
   },
   "outputs": [],
   "source": [
    "pd.json_normalize(result['data']['flow_run'])"
   ]
  },
  {
   "cell_type": "code",
   "execution_count": 1606,
   "id": "aa180369",
   "metadata": {},
   "outputs": [],
   "source": [
    "import time\n",
    "# Need to sleep a little bit to take status of the last task run\n",
    "time.sleep(30)"
   ]
  },
  {
   "cell_type": "code",
   "execution_count": 1607,
   "metadata": {
    "collapsed": false,
    "pycharm": {
     "name": "#%%\n"
    }
   },
   "outputs": [],
   "source": [
    "getStatusQuery = \"\"\"query GetStatusQuery($flowRunId: uuid){\n",
    "  flow_run(\n",
    "    where: {\n",
    "      id: {\n",
    "        _eq: $flowRunId\n",
    "      }\n",
    "    }) \n",
    "    {\n",
    "      end_time\n",
    "      heartbeat\n",
    "      logs {\n",
    "        id\n",
    "        created\n",
    "        message\n",
    "        level\n",
    "      }\n",
    "  }\n",
    "}\"\"\"\n",
    "\n",
    "parametersGetStatusQuery = {\n",
    "    \"flowRunId\": lastFlowRunId,\n",
    "}"
   ]
  },
  {
   "cell_type": "code",
   "execution_count": 1608,
   "metadata": {
    "collapsed": false,
    "pycharm": {
     "name": "#%%\n"
    }
   },
   "outputs": [],
   "source": [
    "r = requests.post(prefectEndpoint, json={\"query\": getStatusQuery, \"variables\": parametersGetStatusQuery}, headers=headers)\n",
    "if r.status_code == 200:\n",
    "    r.json()\n",
    "else:\n",
    "    raise Exception(f\"Query failed to run with a {r.status_code}.\")"
   ]
  },
  {
   "cell_type": "code",
   "execution_count": null,
   "metadata": {
    "collapsed": false,
    "pycharm": {
     "name": "#%%\n"
    }
   },
   "outputs": [],
   "source": [
    "pd.json_normalize(r.json()['data']['flow_run'][0]['logs'])\n"
   ]
  }
 ],
 "metadata": {
  "kernelspec": {
   "display_name": "Python 3 (ipykernel)",
   "language": "python",
   "name": "python3"
  },
  "language_info": {
   "codemirror_mode": {
    "name": "ipython",
    "version": 3
   },
   "file_extension": ".py",
   "mimetype": "text/x-python",
   "name": "python",
   "nbconvert_exporter": "python",
   "pygments_lexer": "ipython3",
   "version": "3.7.3"
  }
 },
 "nbformat": 4,
 "nbformat_minor": 5
}
